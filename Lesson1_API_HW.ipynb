{
 "cells": [
  {
   "cell_type": "code",
   "execution_count": 2,
   "metadata": {},
   "outputs": [],
   "source": [
    "import requests\n",
    "import json\n",
    "from pprint import pprint"
   ]
  },
  {
   "cell_type": "markdown",
   "metadata": {},
   "source": [
    "Посмотреть документацию к API GitHub, разобраться как вывести список репозиториев для конкретного пользователя, сохранить JSON-вывод в файле *.json."
   ]
  },
  {
   "cell_type": "code",
   "execution_count": 3,
   "metadata": {},
   "outputs": [
    {
     "name": "stdout",
     "output_type": "stream",
     "text": [
      "LinAlgebra\n",
      "Python-Data-Science-Numpy-Matplotlib-Scikit-learn\n",
      "Python_Basic\n",
      "Real-Estate-Predicition-Moscow-GB-Project\n",
      "repo-github\n",
      "test1\n"
     ]
    }
   ],
   "source": [
    "url = 'https://api.github.com'\n",
    "user='Hanna413'\n",
    "r = requests.get(f'{url}/users/{user}/repos')\n",
    "with open('data.json', 'w') as f:\n",
    "    json.dump(r.json(), f)\n",
    "for i in r.json():\n",
    "    print(i['name'])"
   ]
  },
  {
   "cell_type": "markdown",
   "metadata": {},
   "source": [
    "2. Изучить список открытых API (https://www.programmableweb.com/category/all/apis). Найти среди них любое, требующее авторизацию (любого типа). Выполнить запросы к нему, пройдя авторизацию. Ответ сервера записать в файл.\n",
    "Если нет желания заморачиваться с поиском, возьмите API вконтакте (https://vk.com/dev/first_guide). Сделайте запрос, чтобы получить список всех сообществ на которые вы подписаны."
   ]
  },
  {
   "cell_type": "code",
   "execution_count": 4,
   "metadata": {},
   "outputs": [],
   "source": [
    "access_token = 'vk1.a.46Yb03WvGNu2ZCTB_EP8S8P5fgxraf48RrQfTrd3xTxIwlBF3ah5B1EVB9XHFAvSXziw2WDGZkJ2sonebRqnPMDA-aEiH6JqBsUWvZBnkFLyZvTPVLJtFoHi1yUm_SDOVrY17DxGN_yXFWx0ANrhVYUrlS6fD7y4vYXms4Di41WFnmF0PHYO1lUmrGyI8JJfbfovAv-xyKbDDhAt8YKlOw'"
   ]
  },
  {
   "cell_type": "code",
   "execution_count": 5,
   "metadata": {},
   "outputs": [],
   "source": [
    "user_id='153580768'\n",
    "url = f'https://api.vk.com/method/groups.get?user_id={user_id}&v=5.131&access_token={access_token}&extended=1'\n",
    "response_vkgroups = requests.get(url).json()\n"
   ]
  },
  {
   "cell_type": "code",
   "execution_count": 6,
   "metadata": {},
   "outputs": [],
   "source": [
    "# pprint(response_vkgroups)\n"
   ]
  },
  {
   "cell_type": "code",
   "execution_count": 7,
   "metadata": {},
   "outputs": [],
   "source": [
    "items= response_vkgroups['response']['items']\n"
   ]
  },
  {
   "cell_type": "code",
   "execution_count": 8,
   "metadata": {},
   "outputs": [
    {
     "name": "stdout",
     "output_type": "stream",
     "text": [
      "Pub-quiz | Паб-квиз \"Штурм\"\n",
      "Комочек пушистой тьмы\n",
      "cats and cats and cats and cats and cats and cat\n",
      "BIPOLAR MEMES\n",
      "Тематический беспредел\n",
      "Welcome to Night Vale\n",
      "ёвый фотограф\n",
      "странные слайды презентаций\n",
      "𝓚𝓟𝓐𝓒𝓤𝓑𝓞у\n",
      "ВОБЛА\n",
      "0107 music\n",
      "че по шрамам\n",
      "Биофак БГУ\n",
      "Marshak\n",
      "ЦРВЕНИХ ЦВЕТОВА\n",
      "плёнка\n",
      "/welcome to shoegaze peaks\n",
      "Панферов(кот) Обыкновенный\n",
      "VALYA!VALYA!\n",
      "мама, я вырастил плесень\n",
      "Которому имени нет\n",
      "LUKEⱯWƎSM.\n",
      "пародируя шовинизм\n",
      "Химчик\n",
      "Кэнен\n",
      "Senoritas everywhere\n",
      "Сибирь\n",
      "бархатный пластырь\n",
      "Я ботаю\n",
      "ALIEN FROM VENUS\n",
      "emo antisocial kids\n",
      "Фузз и Дружжба Х ЦЕХ LIVE\n",
      "Евгений рассердился\n",
      "Альфина: Оляпкозакидательство\n",
      "Кольт под подушкой\n",
      "shadowhunters tumblr text post\n",
      "Всё о Желемыхе: польза, применение, рецепты\n",
      "слюна гения с початой бутылки абсента.\n",
      "(я) подавлен\n",
      "aesthetic mess\n",
      "Мой грустный пейзаж\n",
      "Мой странный экстерьер\n",
      "Биоинформатика Минск\n",
      "Романтика похоронного культа\n",
      "дана скаллі эврыдэй\n",
      "Услышь эстетический оргазм своих глаз\n",
      "Хейтим сойку\n",
      "Do Math. Minsk\n",
      "невидимый робот\n",
      "нищее веган выживание\n",
      "несогласие\n",
      "VOSMOY\n",
      "Эпоха ядерных убежищ | 1950-1960\n",
      "ABLYABLYA\n",
      "Почему я люблю комнатные растения больше людей\n",
      "Lenin Was A Zombie\n",
      "06.12.2018 / ЦРВЕНИХ ЦВЕТОВА / МИНСК / ГРАФФИТИ\n",
      "dandelion hands\n"
     ]
    }
   ],
   "source": [
    "for item in items:\n",
    "    print(item['name'])"
   ]
  },
  {
   "cell_type": "code",
   "execution_count": null,
   "metadata": {},
   "outputs": [],
   "source": []
  }
 ],
 "metadata": {
  "kernelspec": {
   "display_name": "Python 3",
   "language": "python",
   "name": "python3"
  },
  "language_info": {
   "codemirror_mode": {
    "name": "ipython",
    "version": 3
   },
   "file_extension": ".py",
   "mimetype": "text/x-python",
   "name": "python",
   "nbconvert_exporter": "python",
   "pygments_lexer": "ipython3",
   "version": "3.8.3"
  }
 },
 "nbformat": 4,
 "nbformat_minor": 4
}
