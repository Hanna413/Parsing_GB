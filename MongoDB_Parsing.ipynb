{
  "nbformat": 4,
  "nbformat_minor": 0,
  "metadata": {
    "colab": {
      "provenance": [],
      "authorship_tag": "ABX9TyODA24WJgrll/E/dOU2Jsri",
      "include_colab_link": true
    },
    "kernelspec": {
      "name": "python3",
      "display_name": "Python 3"
    },
    "language_info": {
      "name": "python"
    }
  },
  "cells": [
    {
      "cell_type": "markdown",
      "metadata": {
        "id": "view-in-github",
        "colab_type": "text"
      },
      "source": [
        "<a href=\"https://colab.research.google.com/github/Hanna413/Parsing_GB/blob/Lesson4_MongoDB/MongoDB_Parsing.ipynb\" target=\"_parent\"><img src=\"https://colab.research.google.com/assets/colab-badge.svg\" alt=\"Open In Colab\"/></a>"
      ]
    },
    {
      "cell_type": "code",
      "source": [
        "from bs4 import BeautifulSoup as bs\n",
        "import requests\n",
        "from time import sleep\n",
        "from pprint import pprint\n",
        "from pymongo import MongoClient\n"
      ],
      "metadata": {
        "id": "1-ZldMsoCRMh"
      },
      "execution_count": 1,
      "outputs": []
    },
    {
      "cell_type": "code",
      "source": [
        "def page_for_parsing(vacancy_name, num_page):\n",
        "\n",
        "    url = 'https://hh.ru/search/vacancy'\n",
        "\n",
        "    headers = {\n",
        "            'User-Agent': 'Mozilla/5.0 (Windows NT 10.0; Win64; x64) AppleWebKit/537.36 (KHTML, like Gecko) Chrome/110.0.0.0 Safari/537.36',\n",
        "            }\n",
        "\n",
        "    params = {'text': vacancy_name, 'page': num_page}\n",
        "\n",
        "    return requests.get(url=url, headers=headers, params=params)"
      ],
      "metadata": {
        "id": "pHSxku3PDYjE"
      },
      "execution_count": 2,
      "outputs": []
    },
    {
      "cell_type": "code",
      "source": [
        "def clean_salary(vacancy_salary_text, min_salary=None, max_salary=None, currency_salary=None):\n",
        "  list_salary = vacancy_salary_text.replace('\\u202f', '').split()\n",
        "  for i in range(len(list_salary) - 1):\n",
        "    if list_salary[i] == 'от':\n",
        "      min_salary = int(list_salary[i + 1])\n",
        "    elif list_salary[i] == 'до':\n",
        "      max_salary = int(list_salary[i + 1])\n",
        "    elif list_salary[i] == '–':\n",
        "      min_salary = int(list_salary[i - 1])\n",
        "      max_salary = int(list_salary[i + 1])\n",
        "  currency_salary = list_salary[-1]\n",
        "\n",
        "  return min_salary, max_salary, currency_salary"
      ],
      "metadata": {
        "id": "joBJGa1HDj35"
      },
      "execution_count": 3,
      "outputs": []
    },
    {
      "cell_type": "code",
      "source": [
        "vacancy_list = []\n",
        "for page in range(0, 40):\n",
        "  response = page_for_parsing('python', page)\n",
        "  \n",
        "  #print(response.url)\n",
        "  soup = bs(response.content, 'html.parser')\n",
        "  vacancies = soup.find_all('div',{'class': 'vacancy-serp-item__layout'})\n",
        "  for vacancy in vacancies:\n",
        "    vacancy_name = vacancy.find('a').text\n",
        "\n",
        "    vacancy_salary = vacancy.find('span', {'class', 'bloko-header-section-3'})\n",
        "    if vacancy_salary:\n",
        "      vacancy_salary = vacancy_salary.text.replace('\\u202f', '')\n",
        "      min_salary, max_salary, currency_salary = clean_salary(vacancy_salary)\n",
        "    else:\n",
        "      vacancy_salary = 'З/П не указана'\n",
        "      min_salary, max_salary, currency_salary = None, None, None\n",
        "\n",
        "    vacancy_link = vacancy.find('a')['href']\n",
        "\n",
        "    vacancy_dict = {\n",
        "        'name': vacancy_name,\n",
        "        'salary' : vacancy_salary,\n",
        "        'min_salary': min_salary,\n",
        "        'max_salary': max_salary,\n",
        "        'currency_salary': currency_salary,\n",
        "        'link' : vacancy_link,\n",
        "        'source' : 'hh.ru'\n",
        "    }\n",
        "\n",
        "    vacancy_list.append(vacancy_dict)\n",
        "\n",
        "  page += 1\n",
        "  sleep(0.1)"
      ],
      "metadata": {
        "id": "vC25TUMFDwDq"
      },
      "execution_count": 4,
      "outputs": []
    },
    {
      "cell_type": "code",
      "source": [
        "len(vacancy_list)"
      ],
      "metadata": {
        "colab": {
          "base_uri": "https://localhost:8080/"
        },
        "id": "5lDx6mB3EYoT",
        "outputId": "d6799029-189c-470e-c009-78c26dad5a27"
      },
      "execution_count": 5,
      "outputs": [
        {
          "output_type": "execute_result",
          "data": {
            "text/plain": [
              "800"
            ]
          },
          "metadata": {},
          "execution_count": 5
        }
      ]
    },
    {
      "cell_type": "code",
      "execution_count": 6,
      "metadata": {
        "colab": {
          "base_uri": "https://localhost:8080/"
        },
        "id": "sGweOjYd7NyG",
        "outputId": "f08e258d-c65c-4f21-d8f0-73f3af20713b"
      },
      "outputs": [
        {
          "output_type": "stream",
          "name": "stdout",
          "text": [
            "\n",
            "WARNING: apt does not have a stable CLI interface. Use with caution in scripts.\n",
            "\n"
          ]
        }
      ],
      "source": [
        "!apt install mongodb > log\n"
      ]
    },
    {
      "cell_type": "code",
      "source": [
        "!service mongodb start\n"
      ],
      "metadata": {
        "colab": {
          "base_uri": "https://localhost:8080/"
        },
        "id": "c-hWSVROCJHn",
        "outputId": "7dfa415d-3b3e-42ee-fad3-ea8ae39fa59f"
      },
      "execution_count": 7,
      "outputs": [
        {
          "output_type": "stream",
          "name": "stdout",
          "text": [
            " * Starting database mongodb\n",
            "   ...done.\n"
          ]
        }
      ]
    },
    {
      "cell_type": "code",
      "source": [
        "!pip install pymongo\n"
      ],
      "metadata": {
        "colab": {
          "base_uri": "https://localhost:8080/"
        },
        "id": "32HQji-TCJkM",
        "outputId": "7473afb8-95ee-4f8e-f033-9c7cc5dc9439"
      },
      "execution_count": 8,
      "outputs": [
        {
          "output_type": "stream",
          "name": "stdout",
          "text": [
            "Looking in indexes: https://pypi.org/simple, https://us-python.pkg.dev/colab-wheels/public/simple/\n",
            "Requirement already satisfied: pymongo in /usr/local/lib/python3.8/dist-packages (4.3.3)\n",
            "Requirement already satisfied: dnspython<3.0.0,>=1.16.0 in /usr/local/lib/python3.8/dist-packages (from pymongo) (2.3.0)\n"
          ]
        }
      ]
    },
    {
      "cell_type": "code",
      "source": [
        "client = MongoClient()\n"
      ],
      "metadata": {
        "id": "Pecvx96ZCPRK"
      },
      "execution_count": 9,
      "outputs": []
    },
    {
      "cell_type": "code",
      "source": [
        "db = client.vacancies_python_hh\n"
      ],
      "metadata": {
        "id": "qHRMZ_PqEkRb"
      },
      "execution_count": 10,
      "outputs": []
    },
    {
      "cell_type": "code",
      "source": [
        "collection_vacancies_python_hh = db.vacancies"
      ],
      "metadata": {
        "id": "K7o3C9YvEmtP"
      },
      "execution_count": 11,
      "outputs": []
    },
    {
      "cell_type": "code",
      "source": [
        "collection_dublicates = db.dublicates"
      ],
      "metadata": {
        "id": "wrIbi7U7I7DR"
      },
      "execution_count": 12,
      "outputs": []
    },
    {
      "cell_type": "code",
      "source": [
        "def check_and_add_vacancies_in_db(vacancies):\n",
        "  for vacancy in vacancies:\n",
        "    if not len(list(collection_vacancies_python_hh.find({'link': vacancy['link']}))):\n",
        "      collection_vacancies_python_hh.insert_one(vacancy)\n",
        "    else:\n",
        "      collection_dublicates.insert_one(vacancy)"
      ],
      "metadata": {
        "id": "av3OYI4rE7RV"
      },
      "execution_count": 13,
      "outputs": []
    },
    {
      "cell_type": "code",
      "source": [
        "check_and_add_vacancies_in_db(vacancy_list)"
      ],
      "metadata": {
        "id": "9U-_X-BQFVRS"
      },
      "execution_count": 14,
      "outputs": []
    },
    {
      "cell_type": "code",
      "source": [
        "len(list(collection_dublicates.find()))"
      ],
      "metadata": {
        "colab": {
          "base_uri": "https://localhost:8080/"
        },
        "id": "JH4rvFXGGcDB",
        "outputId": "9ad640a4-9b54-45a6-a064-34ff76541b07"
      },
      "execution_count": 15,
      "outputs": [
        {
          "output_type": "execute_result",
          "data": {
            "text/plain": [
              "7"
            ]
          },
          "metadata": {},
          "execution_count": 15
        }
      ]
    },
    {
      "cell_type": "code",
      "source": [
        "result_db = list(collection_vacancies_python_hh.find())\n"
      ],
      "metadata": {
        "id": "KMmVBsBlFbDO"
      },
      "execution_count": 16,
      "outputs": []
    },
    {
      "cell_type": "code",
      "source": [
        "len(result_db)"
      ],
      "metadata": {
        "colab": {
          "base_uri": "https://localhost:8080/"
        },
        "id": "B6jdsRdFFlk9",
        "outputId": "82009d94-b647-4b39-d712-7d90261d77af"
      },
      "execution_count": 17,
      "outputs": [
        {
          "output_type": "execute_result",
          "data": {
            "text/plain": [
              "793"
            ]
          },
          "metadata": {},
          "execution_count": 17
        }
      ]
    },
    {
      "cell_type": "code",
      "source": [
        "def check_salary(collection, desired_salary, currency):\n",
        "  # vacancies_for_salary = []\n",
        "  for vacancy in collection.find({'$and': [{'min_salary': {'$lte': desired_salary}}, {'max_salary': {'$gte': desired_salary}}, {'currency_salary': currency}]}):\n",
        "    vacancies_for_salary.append(vacancy)\n",
        "    pprint(vacancy)"
      ],
      "metadata": {
        "id": "8NIqaBy7Fn8t"
      },
      "execution_count": 24,
      "outputs": []
    },
    {
      "cell_type": "code",
      "source": [
        "check_salary(collection_vacancies_python_hh, 150000, 'руб.')"
      ],
      "metadata": {
        "colab": {
          "base_uri": "https://localhost:8080/"
        },
        "id": "YACWEUBdUrbQ",
        "outputId": "5427db59-9e39-4eb2-924b-0d60847ed64a"
      },
      "execution_count": 25,
      "outputs": [
        {
          "output_type": "stream",
          "name": "stdout",
          "text": [
            "{'_id': ObjectId('63ff9cf9d5fdee8ec6246a89'),\n",
            " 'currency_salary': 'руб.',\n",
            " 'link': 'https://hh.ru/vacancy/70705466?from=vacancy_search_list&query=python',\n",
            " 'max_salary': 220000,\n",
            " 'min_salary': 60000,\n",
            " 'name': 'Python-разработчик (Django, DRF)',\n",
            " 'salary': '60000 – 220000 руб.',\n",
            " 'source': 'hh.ru'}\n",
            "{'_id': ObjectId('63ff9cf9d5fdee8ec6246a96'),\n",
            " 'currency_salary': 'руб.',\n",
            " 'link': 'https://hh.ru/vacancy/77107980?from=vacancy_search_list&query=python',\n",
            " 'max_salary': 240000,\n",
            " 'min_salary': 120000,\n",
            " 'name': 'Python developer',\n",
            " 'salary': '120000 – 240000 руб.',\n",
            " 'source': 'hh.ru'}\n",
            "{'_id': ObjectId('63ff9cf9d5fdee8ec6246aa3'),\n",
            " 'currency_salary': 'руб.',\n",
            " 'link': 'https://hh.ru/vacancy/77271017?from=vacancy_search_list&query=python',\n",
            " 'max_salary': 150000,\n",
            " 'min_salary': 100000,\n",
            " 'name': 'Python Middle Developer',\n",
            " 'salary': '100000 – 150000 руб.',\n",
            " 'source': 'hh.ru'}\n",
            "{'_id': ObjectId('63ff9cf9d5fdee8ec6246ab3'),\n",
            " 'currency_salary': 'руб.',\n",
            " 'link': 'https://hh.ru/vacancy/76712573?from=vacancy_search_list&query=python',\n",
            " 'max_salary': 180000,\n",
            " 'min_salary': 150000,\n",
            " 'name': 'Разработчик бэкэнд (Python)',\n",
            " 'salary': '150000 – 180000 руб.',\n",
            " 'source': 'hh.ru'}\n",
            "{'_id': ObjectId('63ff9cf9d5fdee8ec6246ab5'),\n",
            " 'currency_salary': 'руб.',\n",
            " 'link': 'https://hh.ru/vacancy/77459830?from=vacancy_search_list&query=python',\n",
            " 'max_salary': 250000,\n",
            " 'min_salary': 150000,\n",
            " 'name': 'Программист C++/Python',\n",
            " 'salary': '150000 – 250000 руб.',\n",
            " 'source': 'hh.ru'}\n",
            "{'_id': ObjectId('63ff9cf9d5fdee8ec6246abb'),\n",
            " 'currency_salary': 'руб.',\n",
            " 'link': 'https://hh.ru/vacancy/77280737?from=vacancy_search_list&query=python',\n",
            " 'max_salary': 160000,\n",
            " 'min_salary': 110000,\n",
            " 'name': 'Middle Python разработчик/Руководитель группы',\n",
            " 'salary': '110000 – 160000 руб.',\n",
            " 'source': 'hh.ru'}\n",
            "{'_id': ObjectId('63ff9cf9d5fdee8ec6246ac4'),\n",
            " 'currency_salary': 'руб.',\n",
            " 'link': 'https://hh.ru/vacancy/77497386?from=vacancy_search_list&query=python',\n",
            " 'max_salary': 250000,\n",
            " 'min_salary': 140000,\n",
            " 'name': 'Middle/Senior Python Developer',\n",
            " 'salary': '140000 – 250000 руб.',\n",
            " 'source': 'hh.ru'}\n",
            "{'_id': ObjectId('63ff9cf9d5fdee8ec6246ac8'),\n",
            " 'currency_salary': 'руб.',\n",
            " 'link': 'https://hh.ru/vacancy/77409459?from=vacancy_search_list&query=python',\n",
            " 'max_salary': 250000,\n",
            " 'min_salary': 75130,\n",
            " 'name': 'Ассистент Департамента анализа данных и машинного обучения',\n",
            " 'salary': '75130 – 250000 руб.',\n",
            " 'source': 'hh.ru'}\n",
            "{'_id': ObjectId('63ff9cf9d5fdee8ec6246ad4'),\n",
            " 'currency_salary': 'руб.',\n",
            " 'link': 'https://hh.ru/vacancy/72687478?from=vacancy_search_list&query=python',\n",
            " 'max_salary': 150000,\n",
            " 'min_salary': 100000,\n",
            " 'name': 'Python-разработчик в R&D отдел',\n",
            " 'salary': '100000 – 150000 руб.',\n",
            " 'source': 'hh.ru'}\n",
            "{'_id': ObjectId('63ff9cf9d5fdee8ec6246ad8'),\n",
            " 'currency_salary': 'руб.',\n",
            " 'link': 'https://hh.ru/vacancy/74257661?from=vacancy_search_list&query=python',\n",
            " 'max_salary': 300000,\n",
            " 'min_salary': 150000,\n",
            " 'name': 'Data scientist',\n",
            " 'salary': '150000 – 300000 руб.',\n",
            " 'source': 'hh.ru'}\n",
            "{'_id': ObjectId('63ff9cf9d5fdee8ec6246adf'),\n",
            " 'currency_salary': 'руб.',\n",
            " 'link': 'https://hh.ru/vacancy/76412397?from=vacancy_search_list&query=python',\n",
            " 'max_salary': 200000,\n",
            " 'min_salary': 140000,\n",
            " 'name': 'WEB/Data-аналитик',\n",
            " 'salary': '140000 – 200000 руб.',\n",
            " 'source': 'hh.ru'}\n",
            "{'_id': ObjectId('63ff9cfad5fdee8ec6246ae4'),\n",
            " 'currency_salary': 'руб.',\n",
            " 'link': 'https://hh.ru/vacancy/75941609?from=vacancy_search_list&query=python',\n",
            " 'max_salary': 250000,\n",
            " 'min_salary': 150000,\n",
            " 'name': 'Ведущий Python разработчик / Senior python developer',\n",
            " 'salary': '150000 – 250000 руб.',\n",
            " 'source': 'hh.ru'}\n",
            "{'_id': ObjectId('63ff9cfad5fdee8ec6246ae7'),\n",
            " 'currency_salary': 'руб.',\n",
            " 'link': 'https://hh.ru/vacancy/77148120?from=vacancy_search_list&query=python',\n",
            " 'max_salary': 220000,\n",
            " 'min_salary': 140000,\n",
            " 'name': 'Middle Python Developer (Backend / Server side)',\n",
            " 'salary': '140000 – 220000 руб.',\n",
            " 'source': 'hh.ru'}\n",
            "{'_id': ObjectId('63ff9cfad5fdee8ec6246aed'),\n",
            " 'currency_salary': 'руб.',\n",
            " 'link': 'https://hh.ru/vacancy/72687495?from=vacancy_search_list&query=python',\n",
            " 'max_salary': 150000,\n",
            " 'min_salary': 100000,\n",
            " 'name': 'Python-разработчик систем сбора',\n",
            " 'salary': '100000 – 150000 руб.',\n",
            " 'source': 'hh.ru'}\n",
            "{'_id': ObjectId('63ff9cfad5fdee8ec6246aee'),\n",
            " 'currency_salary': 'руб.',\n",
            " 'link': 'https://hh.ru/vacancy/75679088?from=vacancy_search_list&query=python',\n",
            " 'max_salary': 250000,\n",
            " 'min_salary': 140000,\n",
            " 'name': 'Middle Python-разработчик',\n",
            " 'salary': '140000 – 250000 руб.',\n",
            " 'source': 'hh.ru'}\n",
            "{'_id': ObjectId('63ff9cfad5fdee8ec6246af4'),\n",
            " 'currency_salary': 'руб.',\n",
            " 'link': 'https://hh.ru/vacancy/77403531?from=vacancy_search_list&query=python',\n",
            " 'max_salary': 200000,\n",
            " 'min_salary': 150000,\n",
            " 'name': 'Middle Python Developer',\n",
            " 'salary': '150000 – 200000 руб.',\n",
            " 'source': 'hh.ru'}\n",
            "{'_id': ObjectId('63ff9cfad5fdee8ec6246af7'),\n",
            " 'currency_salary': 'руб.',\n",
            " 'link': 'https://hh.ru/vacancy/77155591?from=vacancy_search_list&query=python',\n",
            " 'max_salary': 240000,\n",
            " 'min_salary': 150000,\n",
            " 'name': 'Ведущий Python разработчик',\n",
            " 'salary': '150000 – 240000 руб.',\n",
            " 'source': 'hh.ru'}\n",
            "{'_id': ObjectId('63ff9cfad5fdee8ec6246b0d'),\n",
            " 'currency_salary': 'руб.',\n",
            " 'link': 'https://hh.ru/vacancy/76827509?from=vacancy_search_list&query=python',\n",
            " 'max_salary': 200000,\n",
            " 'min_salary': 150000,\n",
            " 'name': 'Backend Python developer (senior/middle+)',\n",
            " 'salary': '150000 – 200000 руб.',\n",
            " 'source': 'hh.ru'}\n",
            "{'_id': ObjectId('63ff9cfad5fdee8ec6246b22'),\n",
            " 'currency_salary': 'руб.',\n",
            " 'link': 'https://hh.ru/vacancy/69947221?from=vacancy_search_list&query=python',\n",
            " 'max_salary': 200000,\n",
            " 'min_salary': 140000,\n",
            " 'name': 'Аналитик данных / Data Scientist (Middle)',\n",
            " 'salary': '140000 – 200000 руб.',\n",
            " 'source': 'hh.ru'}\n",
            "{'_id': ObjectId('63ff9cfad5fdee8ec6246b3b'),\n",
            " 'currency_salary': 'руб.',\n",
            " 'link': 'https://hh.ru/vacancy/75845551?from=vacancy_search_list&query=python',\n",
            " 'max_salary': 220000,\n",
            " 'min_salary': 125000,\n",
            " 'name': 'Программист Python',\n",
            " 'salary': '125000 – 220000 руб.',\n",
            " 'source': 'hh.ru'}\n",
            "{'_id': ObjectId('63ff9cfad5fdee8ec6246b53'),\n",
            " 'currency_salary': 'руб.',\n",
            " 'link': 'https://hh.ru/vacancy/77019389?from=vacancy_search_list&query=python',\n",
            " 'max_salary': 180000,\n",
            " 'min_salary': 120000,\n",
            " 'name': 'Middle Python разработчик',\n",
            " 'salary': '120000 – 180000 руб.',\n",
            " 'source': 'hh.ru'}\n",
            "{'_id': ObjectId('63ff9cfad5fdee8ec6246b86'),\n",
            " 'currency_salary': 'руб.',\n",
            " 'link': 'https://hh.ru/vacancy/77061996?from=vacancy_search_list&query=python',\n",
            " 'max_salary': 200000,\n",
            " 'min_salary': 150000,\n",
            " 'name': 'Разработчик Python / Django (Middle)',\n",
            " 'salary': '150000 – 200000 руб.',\n",
            " 'source': 'hh.ru'}\n",
            "{'_id': ObjectId('63ff9cfad5fdee8ec6246bbe'),\n",
            " 'currency_salary': 'руб.',\n",
            " 'link': 'https://hh.ru/vacancy/76785567?from=vacancy_search_list&query=python',\n",
            " 'max_salary': 150000,\n",
            " 'min_salary': 120000,\n",
            " 'name': 'Аналитик данных (SQL)',\n",
            " 'salary': '120000 – 150000 руб.',\n",
            " 'source': 'hh.ru'}\n",
            "{'_id': ObjectId('63ff9cfad5fdee8ec6246bcd'),\n",
            " 'currency_salary': 'руб.',\n",
            " 'link': 'https://hh.ru/vacancy/76495836?from=vacancy_search_list&query=python',\n",
            " 'max_salary': 200000,\n",
            " 'min_salary': 120000,\n",
            " 'name': 'Разработчик Python',\n",
            " 'salary': '120000 – 200000 руб.',\n",
            " 'source': 'hh.ru'}\n",
            "{'_id': ObjectId('63ff9cfad5fdee8ec6246be4'),\n",
            " 'currency_salary': 'руб.',\n",
            " 'link': 'https://hh.ru/vacancy/76679124?from=vacancy_search_list&query=python',\n",
            " 'max_salary': 190000,\n",
            " 'min_salary': 150000,\n",
            " 'name': 'Middle/Middle+ Python developer',\n",
            " 'salary': '150000 – 190000 руб.',\n",
            " 'source': 'hh.ru'}\n",
            "{'_id': ObjectId('63ff9cfad5fdee8ec6246bef'),\n",
            " 'currency_salary': 'руб.',\n",
            " 'link': 'https://hh.ru/vacancy/76628647?from=vacancy_search_list&query=python',\n",
            " 'max_salary': 150000,\n",
            " 'min_salary': 40000,\n",
            " 'name': 'Программист Python',\n",
            " 'salary': '40000 – 150000 руб.',\n",
            " 'source': 'hh.ru'}\n",
            "{'_id': ObjectId('63ff9cfad5fdee8ec6246c1c'),\n",
            " 'currency_salary': 'руб.',\n",
            " 'link': 'https://hh.ru/vacancy/76613065?from=vacancy_search_list&query=python',\n",
            " 'max_salary': 220000,\n",
            " 'min_salary': 100000,\n",
            " 'name': 'Python разработчик Middle+ / Senior',\n",
            " 'salary': '100000 – 220000 руб.',\n",
            " 'source': 'hh.ru'}\n",
            "{'_id': ObjectId('63ff9cfad5fdee8ec6246c3f'),\n",
            " 'currency_salary': 'руб.',\n",
            " 'link': 'https://hh.ru/vacancy/76834558?from=vacancy_search_list&query=python',\n",
            " 'max_salary': 150000,\n",
            " 'min_salary': 120000,\n",
            " 'name': 'Python разработчик / учитель',\n",
            " 'salary': '120000 – 150000 руб.',\n",
            " 'source': 'hh.ru'}\n",
            "{'_id': ObjectId('63ff9cfad5fdee8ec6246c75'),\n",
            " 'currency_salary': 'руб.',\n",
            " 'link': 'https://hh.ru/vacancy/77210228?from=vacancy_search_list&query=python',\n",
            " 'max_salary': 150000,\n",
            " 'min_salary': 130000,\n",
            " 'name': 'DevOps-инженер',\n",
            " 'salary': '130000 – 150000 руб.',\n",
            " 'source': 'hh.ru'}\n",
            "{'_id': ObjectId('63ff9cfad5fdee8ec6246cca'),\n",
            " 'currency_salary': 'руб.',\n",
            " 'link': 'https://hh.ru/vacancy/69970105?from=vacancy_search_list&query=python',\n",
            " 'max_salary': 150000,\n",
            " 'min_salary': 90000,\n",
            " 'name': 'Инженер-программист 1 категории',\n",
            " 'salary': '90000 – 150000 руб.',\n",
            " 'source': 'hh.ru'}\n",
            "{'_id': ObjectId('63ff9cfad5fdee8ec6246ce2'),\n",
            " 'currency_salary': 'руб.',\n",
            " 'link': 'https://hh.ru/vacancy/76287517?from=vacancy_search_list&query=python',\n",
            " 'max_salary': 200000,\n",
            " 'min_salary': 100000,\n",
            " 'name': 'Аналитик-программист (Data Engineer)',\n",
            " 'salary': '100000 – 200000 руб.',\n",
            " 'source': 'hh.ru'}\n",
            "{'_id': ObjectId('63ff9cfad5fdee8ec6246cf0'),\n",
            " 'currency_salary': 'руб.',\n",
            " 'link': 'https://hh.ru/vacancy/30548119?from=vacancy_search_list&query=python',\n",
            " 'max_salary': 200000,\n",
            " 'min_salary': 80000,\n",
            " 'name': 'Middle / Senior Python/Go developer',\n",
            " 'salary': '80000 – 200000 руб.',\n",
            " 'source': 'hh.ru'}\n",
            "{'_id': ObjectId('63ff9cfad5fdee8ec6246d37'),\n",
            " 'currency_salary': 'руб.',\n",
            " 'link': 'https://hh.ru/vacancy/76061728?from=vacancy_search_list&query=python',\n",
            " 'max_salary': 400000,\n",
            " 'min_salary': 80000,\n",
            " 'name': 'Backend разработчик (офис)',\n",
            " 'salary': '80000 – 400000 руб.',\n",
            " 'source': 'hh.ru'}\n",
            "{'_id': ObjectId('63ff9cfad5fdee8ec6246d4d'),\n",
            " 'currency_salary': 'руб.',\n",
            " 'link': 'https://hh.ru/vacancy/76447662?from=vacancy_search_list&query=python',\n",
            " 'max_salary': 165000,\n",
            " 'min_salary': 150000,\n",
            " 'name': 'Database Engineer',\n",
            " 'salary': '150000 – 165000 руб.',\n",
            " 'source': 'hh.ru'}\n",
            "{'_id': ObjectId('63ff9cfad5fdee8ec6246d54'),\n",
            " 'currency_salary': 'руб.',\n",
            " 'link': 'https://hh.ru/vacancy/77430744?from=vacancy_search_list&query=python',\n",
            " 'max_salary': 220000,\n",
            " 'min_salary': 120000,\n",
            " 'name': 'Middle Backend Developer (Python)',\n",
            " 'salary': '120000 – 220000 руб.',\n",
            " 'source': 'hh.ru'}\n",
            "{'_id': ObjectId('63ff9cfad5fdee8ec6246d81'),\n",
            " 'currency_salary': 'руб.',\n",
            " 'link': 'https://hh.ru/vacancy/76071289?from=vacancy_search_list&query=python',\n",
            " 'max_salary': 200000,\n",
            " 'min_salary': 150000,\n",
            " 'name': 'DevOps Engineer',\n",
            " 'salary': '150000 – 200000 руб.',\n",
            " 'source': 'hh.ru'}\n",
            "{'_id': ObjectId('63ff9cfad5fdee8ec6246d94'),\n",
            " 'currency_salary': 'руб.',\n",
            " 'link': 'https://hh.ru/vacancy/76477786?from=vacancy_search_list&query=python',\n",
            " 'max_salary': 200000,\n",
            " 'min_salary': 103500,\n",
            " 'name': 'Middle DevOps Engineer',\n",
            " 'salary': '103500 – 200000 руб.',\n",
            " 'source': 'hh.ru'}\n"
          ]
        },
        {
          "output_type": "execute_result",
          "data": {
            "text/plain": [
              "[{'_id': ObjectId('63ff9cf9d5fdee8ec6246a89'),\n",
              "  'name': 'Python-разработчик (Django, DRF)',\n",
              "  'salary': '60000 – 220000 руб.',\n",
              "  'min_salary': 60000,\n",
              "  'max_salary': 220000,\n",
              "  'currency_salary': 'руб.',\n",
              "  'link': 'https://hh.ru/vacancy/70705466?from=vacancy_search_list&query=python',\n",
              "  'source': 'hh.ru'},\n",
              " {'_id': ObjectId('63ff9cf9d5fdee8ec6246a96'),\n",
              "  'name': 'Python developer',\n",
              "  'salary': '120000 – 240000 руб.',\n",
              "  'min_salary': 120000,\n",
              "  'max_salary': 240000,\n",
              "  'currency_salary': 'руб.',\n",
              "  'link': 'https://hh.ru/vacancy/77107980?from=vacancy_search_list&query=python',\n",
              "  'source': 'hh.ru'},\n",
              " {'_id': ObjectId('63ff9cf9d5fdee8ec6246aa3'),\n",
              "  'name': 'Python Middle Developer',\n",
              "  'salary': '100000 – 150000 руб.',\n",
              "  'min_salary': 100000,\n",
              "  'max_salary': 150000,\n",
              "  'currency_salary': 'руб.',\n",
              "  'link': 'https://hh.ru/vacancy/77271017?from=vacancy_search_list&query=python',\n",
              "  'source': 'hh.ru'},\n",
              " {'_id': ObjectId('63ff9cf9d5fdee8ec6246ab3'),\n",
              "  'name': 'Разработчик бэкэнд (Python)',\n",
              "  'salary': '150000 – 180000 руб.',\n",
              "  'min_salary': 150000,\n",
              "  'max_salary': 180000,\n",
              "  'currency_salary': 'руб.',\n",
              "  'link': 'https://hh.ru/vacancy/76712573?from=vacancy_search_list&query=python',\n",
              "  'source': 'hh.ru'},\n",
              " {'_id': ObjectId('63ff9cf9d5fdee8ec6246ab5'),\n",
              "  'name': 'Программист C++/Python',\n",
              "  'salary': '150000 – 250000 руб.',\n",
              "  'min_salary': 150000,\n",
              "  'max_salary': 250000,\n",
              "  'currency_salary': 'руб.',\n",
              "  'link': 'https://hh.ru/vacancy/77459830?from=vacancy_search_list&query=python',\n",
              "  'source': 'hh.ru'},\n",
              " {'_id': ObjectId('63ff9cf9d5fdee8ec6246abb'),\n",
              "  'name': 'Middle Python разработчик/Руководитель группы',\n",
              "  'salary': '110000 – 160000 руб.',\n",
              "  'min_salary': 110000,\n",
              "  'max_salary': 160000,\n",
              "  'currency_salary': 'руб.',\n",
              "  'link': 'https://hh.ru/vacancy/77280737?from=vacancy_search_list&query=python',\n",
              "  'source': 'hh.ru'},\n",
              " {'_id': ObjectId('63ff9cf9d5fdee8ec6246ac4'),\n",
              "  'name': 'Middle/Senior Python Developer',\n",
              "  'salary': '140000 – 250000 руб.',\n",
              "  'min_salary': 140000,\n",
              "  'max_salary': 250000,\n",
              "  'currency_salary': 'руб.',\n",
              "  'link': 'https://hh.ru/vacancy/77497386?from=vacancy_search_list&query=python',\n",
              "  'source': 'hh.ru'},\n",
              " {'_id': ObjectId('63ff9cf9d5fdee8ec6246ac8'),\n",
              "  'name': 'Ассистент Департамента анализа данных и машинного обучения',\n",
              "  'salary': '75130 – 250000 руб.',\n",
              "  'min_salary': 75130,\n",
              "  'max_salary': 250000,\n",
              "  'currency_salary': 'руб.',\n",
              "  'link': 'https://hh.ru/vacancy/77409459?from=vacancy_search_list&query=python',\n",
              "  'source': 'hh.ru'},\n",
              " {'_id': ObjectId('63ff9cf9d5fdee8ec6246ad4'),\n",
              "  'name': 'Python-разработчик в R&D отдел',\n",
              "  'salary': '100000 – 150000 руб.',\n",
              "  'min_salary': 100000,\n",
              "  'max_salary': 150000,\n",
              "  'currency_salary': 'руб.',\n",
              "  'link': 'https://hh.ru/vacancy/72687478?from=vacancy_search_list&query=python',\n",
              "  'source': 'hh.ru'},\n",
              " {'_id': ObjectId('63ff9cf9d5fdee8ec6246ad8'),\n",
              "  'name': 'Data scientist',\n",
              "  'salary': '150000 – 300000 руб.',\n",
              "  'min_salary': 150000,\n",
              "  'max_salary': 300000,\n",
              "  'currency_salary': 'руб.',\n",
              "  'link': 'https://hh.ru/vacancy/74257661?from=vacancy_search_list&query=python',\n",
              "  'source': 'hh.ru'},\n",
              " {'_id': ObjectId('63ff9cf9d5fdee8ec6246adf'),\n",
              "  'name': 'WEB/Data-аналитик',\n",
              "  'salary': '140000 – 200000 руб.',\n",
              "  'min_salary': 140000,\n",
              "  'max_salary': 200000,\n",
              "  'currency_salary': 'руб.',\n",
              "  'link': 'https://hh.ru/vacancy/76412397?from=vacancy_search_list&query=python',\n",
              "  'source': 'hh.ru'},\n",
              " {'_id': ObjectId('63ff9cfad5fdee8ec6246ae4'),\n",
              "  'name': 'Ведущий Python разработчик / Senior python developer',\n",
              "  'salary': '150000 – 250000 руб.',\n",
              "  'min_salary': 150000,\n",
              "  'max_salary': 250000,\n",
              "  'currency_salary': 'руб.',\n",
              "  'link': 'https://hh.ru/vacancy/75941609?from=vacancy_search_list&query=python',\n",
              "  'source': 'hh.ru'},\n",
              " {'_id': ObjectId('63ff9cfad5fdee8ec6246ae7'),\n",
              "  'name': 'Middle Python Developer (Backend / Server side)',\n",
              "  'salary': '140000 – 220000 руб.',\n",
              "  'min_salary': 140000,\n",
              "  'max_salary': 220000,\n",
              "  'currency_salary': 'руб.',\n",
              "  'link': 'https://hh.ru/vacancy/77148120?from=vacancy_search_list&query=python',\n",
              "  'source': 'hh.ru'},\n",
              " {'_id': ObjectId('63ff9cfad5fdee8ec6246aed'),\n",
              "  'name': 'Python-разработчик систем сбора',\n",
              "  'salary': '100000 – 150000 руб.',\n",
              "  'min_salary': 100000,\n",
              "  'max_salary': 150000,\n",
              "  'currency_salary': 'руб.',\n",
              "  'link': 'https://hh.ru/vacancy/72687495?from=vacancy_search_list&query=python',\n",
              "  'source': 'hh.ru'},\n",
              " {'_id': ObjectId('63ff9cfad5fdee8ec6246aee'),\n",
              "  'name': 'Middle Python-разработчик',\n",
              "  'salary': '140000 – 250000 руб.',\n",
              "  'min_salary': 140000,\n",
              "  'max_salary': 250000,\n",
              "  'currency_salary': 'руб.',\n",
              "  'link': 'https://hh.ru/vacancy/75679088?from=vacancy_search_list&query=python',\n",
              "  'source': 'hh.ru'},\n",
              " {'_id': ObjectId('63ff9cfad5fdee8ec6246af4'),\n",
              "  'name': 'Middle Python Developer',\n",
              "  'salary': '150000 – 200000 руб.',\n",
              "  'min_salary': 150000,\n",
              "  'max_salary': 200000,\n",
              "  'currency_salary': 'руб.',\n",
              "  'link': 'https://hh.ru/vacancy/77403531?from=vacancy_search_list&query=python',\n",
              "  'source': 'hh.ru'},\n",
              " {'_id': ObjectId('63ff9cfad5fdee8ec6246af7'),\n",
              "  'name': 'Ведущий Python разработчик',\n",
              "  'salary': '150000 – 240000 руб.',\n",
              "  'min_salary': 150000,\n",
              "  'max_salary': 240000,\n",
              "  'currency_salary': 'руб.',\n",
              "  'link': 'https://hh.ru/vacancy/77155591?from=vacancy_search_list&query=python',\n",
              "  'source': 'hh.ru'},\n",
              " {'_id': ObjectId('63ff9cfad5fdee8ec6246b0d'),\n",
              "  'name': 'Backend Python developer (senior/middle+)',\n",
              "  'salary': '150000 – 200000 руб.',\n",
              "  'min_salary': 150000,\n",
              "  'max_salary': 200000,\n",
              "  'currency_salary': 'руб.',\n",
              "  'link': 'https://hh.ru/vacancy/76827509?from=vacancy_search_list&query=python',\n",
              "  'source': 'hh.ru'},\n",
              " {'_id': ObjectId('63ff9cfad5fdee8ec6246b22'),\n",
              "  'name': 'Аналитик данных / Data Scientist (Middle)',\n",
              "  'salary': '140000 – 200000 руб.',\n",
              "  'min_salary': 140000,\n",
              "  'max_salary': 200000,\n",
              "  'currency_salary': 'руб.',\n",
              "  'link': 'https://hh.ru/vacancy/69947221?from=vacancy_search_list&query=python',\n",
              "  'source': 'hh.ru'},\n",
              " {'_id': ObjectId('63ff9cfad5fdee8ec6246b3b'),\n",
              "  'name': 'Программист Python',\n",
              "  'salary': '125000 – 220000 руб.',\n",
              "  'min_salary': 125000,\n",
              "  'max_salary': 220000,\n",
              "  'currency_salary': 'руб.',\n",
              "  'link': 'https://hh.ru/vacancy/75845551?from=vacancy_search_list&query=python',\n",
              "  'source': 'hh.ru'},\n",
              " {'_id': ObjectId('63ff9cfad5fdee8ec6246b53'),\n",
              "  'name': 'Middle Python разработчик',\n",
              "  'salary': '120000 – 180000 руб.',\n",
              "  'min_salary': 120000,\n",
              "  'max_salary': 180000,\n",
              "  'currency_salary': 'руб.',\n",
              "  'link': 'https://hh.ru/vacancy/77019389?from=vacancy_search_list&query=python',\n",
              "  'source': 'hh.ru'},\n",
              " {'_id': ObjectId('63ff9cfad5fdee8ec6246b86'),\n",
              "  'name': 'Разработчик Python / Django (Middle)',\n",
              "  'salary': '150000 – 200000 руб.',\n",
              "  'min_salary': 150000,\n",
              "  'max_salary': 200000,\n",
              "  'currency_salary': 'руб.',\n",
              "  'link': 'https://hh.ru/vacancy/77061996?from=vacancy_search_list&query=python',\n",
              "  'source': 'hh.ru'},\n",
              " {'_id': ObjectId('63ff9cfad5fdee8ec6246bbe'),\n",
              "  'name': 'Аналитик данных (SQL)',\n",
              "  'salary': '120000 – 150000 руб.',\n",
              "  'min_salary': 120000,\n",
              "  'max_salary': 150000,\n",
              "  'currency_salary': 'руб.',\n",
              "  'link': 'https://hh.ru/vacancy/76785567?from=vacancy_search_list&query=python',\n",
              "  'source': 'hh.ru'},\n",
              " {'_id': ObjectId('63ff9cfad5fdee8ec6246bcd'),\n",
              "  'name': 'Разработчик Python',\n",
              "  'salary': '120000 – 200000 руб.',\n",
              "  'min_salary': 120000,\n",
              "  'max_salary': 200000,\n",
              "  'currency_salary': 'руб.',\n",
              "  'link': 'https://hh.ru/vacancy/76495836?from=vacancy_search_list&query=python',\n",
              "  'source': 'hh.ru'},\n",
              " {'_id': ObjectId('63ff9cfad5fdee8ec6246be4'),\n",
              "  'name': 'Middle/Middle+ Python developer',\n",
              "  'salary': '150000 – 190000 руб.',\n",
              "  'min_salary': 150000,\n",
              "  'max_salary': 190000,\n",
              "  'currency_salary': 'руб.',\n",
              "  'link': 'https://hh.ru/vacancy/76679124?from=vacancy_search_list&query=python',\n",
              "  'source': 'hh.ru'},\n",
              " {'_id': ObjectId('63ff9cfad5fdee8ec6246bef'),\n",
              "  'name': 'Программист Python',\n",
              "  'salary': '40000 – 150000 руб.',\n",
              "  'min_salary': 40000,\n",
              "  'max_salary': 150000,\n",
              "  'currency_salary': 'руб.',\n",
              "  'link': 'https://hh.ru/vacancy/76628647?from=vacancy_search_list&query=python',\n",
              "  'source': 'hh.ru'},\n",
              " {'_id': ObjectId('63ff9cfad5fdee8ec6246c1c'),\n",
              "  'name': 'Python разработчик Middle+ / Senior',\n",
              "  'salary': '100000 – 220000 руб.',\n",
              "  'min_salary': 100000,\n",
              "  'max_salary': 220000,\n",
              "  'currency_salary': 'руб.',\n",
              "  'link': 'https://hh.ru/vacancy/76613065?from=vacancy_search_list&query=python',\n",
              "  'source': 'hh.ru'},\n",
              " {'_id': ObjectId('63ff9cfad5fdee8ec6246c3f'),\n",
              "  'name': 'Python разработчик / учитель',\n",
              "  'salary': '120000 – 150000 руб.',\n",
              "  'min_salary': 120000,\n",
              "  'max_salary': 150000,\n",
              "  'currency_salary': 'руб.',\n",
              "  'link': 'https://hh.ru/vacancy/76834558?from=vacancy_search_list&query=python',\n",
              "  'source': 'hh.ru'},\n",
              " {'_id': ObjectId('63ff9cfad5fdee8ec6246c75'),\n",
              "  'name': 'DevOps-инженер',\n",
              "  'salary': '130000 – 150000 руб.',\n",
              "  'min_salary': 130000,\n",
              "  'max_salary': 150000,\n",
              "  'currency_salary': 'руб.',\n",
              "  'link': 'https://hh.ru/vacancy/77210228?from=vacancy_search_list&query=python',\n",
              "  'source': 'hh.ru'},\n",
              " {'_id': ObjectId('63ff9cfad5fdee8ec6246cca'),\n",
              "  'name': 'Инженер-программист 1 категории',\n",
              "  'salary': '90000 – 150000 руб.',\n",
              "  'min_salary': 90000,\n",
              "  'max_salary': 150000,\n",
              "  'currency_salary': 'руб.',\n",
              "  'link': 'https://hh.ru/vacancy/69970105?from=vacancy_search_list&query=python',\n",
              "  'source': 'hh.ru'},\n",
              " {'_id': ObjectId('63ff9cfad5fdee8ec6246ce2'),\n",
              "  'name': 'Аналитик-программист (Data Engineer)',\n",
              "  'salary': '100000 – 200000 руб.',\n",
              "  'min_salary': 100000,\n",
              "  'max_salary': 200000,\n",
              "  'currency_salary': 'руб.',\n",
              "  'link': 'https://hh.ru/vacancy/76287517?from=vacancy_search_list&query=python',\n",
              "  'source': 'hh.ru'},\n",
              " {'_id': ObjectId('63ff9cfad5fdee8ec6246cf0'),\n",
              "  'name': 'Middle / Senior Python/Go developer',\n",
              "  'salary': '80000 – 200000 руб.',\n",
              "  'min_salary': 80000,\n",
              "  'max_salary': 200000,\n",
              "  'currency_salary': 'руб.',\n",
              "  'link': 'https://hh.ru/vacancy/30548119?from=vacancy_search_list&query=python',\n",
              "  'source': 'hh.ru'},\n",
              " {'_id': ObjectId('63ff9cfad5fdee8ec6246d37'),\n",
              "  'name': 'Backend разработчик (офис)',\n",
              "  'salary': '80000 – 400000 руб.',\n",
              "  'min_salary': 80000,\n",
              "  'max_salary': 400000,\n",
              "  'currency_salary': 'руб.',\n",
              "  'link': 'https://hh.ru/vacancy/76061728?from=vacancy_search_list&query=python',\n",
              "  'source': 'hh.ru'},\n",
              " {'_id': ObjectId('63ff9cfad5fdee8ec6246d4d'),\n",
              "  'name': 'Database Engineer',\n",
              "  'salary': '150000 – 165000 руб.',\n",
              "  'min_salary': 150000,\n",
              "  'max_salary': 165000,\n",
              "  'currency_salary': 'руб.',\n",
              "  'link': 'https://hh.ru/vacancy/76447662?from=vacancy_search_list&query=python',\n",
              "  'source': 'hh.ru'},\n",
              " {'_id': ObjectId('63ff9cfad5fdee8ec6246d54'),\n",
              "  'name': 'Middle Backend Developer (Python)',\n",
              "  'salary': '120000 – 220000 руб.',\n",
              "  'min_salary': 120000,\n",
              "  'max_salary': 220000,\n",
              "  'currency_salary': 'руб.',\n",
              "  'link': 'https://hh.ru/vacancy/77430744?from=vacancy_search_list&query=python',\n",
              "  'source': 'hh.ru'},\n",
              " {'_id': ObjectId('63ff9cfad5fdee8ec6246d81'),\n",
              "  'name': 'DevOps Engineer',\n",
              "  'salary': '150000 – 200000 руб.',\n",
              "  'min_salary': 150000,\n",
              "  'max_salary': 200000,\n",
              "  'currency_salary': 'руб.',\n",
              "  'link': 'https://hh.ru/vacancy/76071289?from=vacancy_search_list&query=python',\n",
              "  'source': 'hh.ru'},\n",
              " {'_id': ObjectId('63ff9cfad5fdee8ec6246d94'),\n",
              "  'name': 'Middle DevOps Engineer',\n",
              "  'salary': '103500 – 200000 руб.',\n",
              "  'min_salary': 103500,\n",
              "  'max_salary': 200000,\n",
              "  'currency_salary': 'руб.',\n",
              "  'link': 'https://hh.ru/vacancy/76477786?from=vacancy_search_list&query=python',\n",
              "  'source': 'hh.ru'}]"
            ]
          },
          "metadata": {},
          "execution_count": 25
        }
      ]
    },
    {
      "cell_type": "code",
      "source": [],
      "metadata": {
        "id": "6HmoO8lrfuo6"
      },
      "execution_count": null,
      "outputs": []
    }
  ]
}